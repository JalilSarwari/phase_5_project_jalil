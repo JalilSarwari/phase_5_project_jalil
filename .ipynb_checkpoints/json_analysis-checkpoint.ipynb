{
 "cells": [
  {
   "cell_type": "code",
   "execution_count": 84,
   "metadata": {
    "scrolled": false
   },
   "outputs": [
    {
     "name": "stdout",
     "output_type": "stream",
     "text": [
      "{'_': 'Message', 'id': 8, 'peer_id': {'_': 'PeerChannel', 'channel_id': 1179447288}, 'date': '2021-07-20T01:41:29+00:00', 'message': '', 'out': False, 'mentioned': False, 'media_unread': False, 'silent': False, 'post': False, 'from_scheduled': False, 'legacy': False, 'edit_hide': False, 'pinned': False, 'noforwards': False, 'from_id': {'_': 'PeerUser', 'user_id': 1131149496}, 'fwd_from': None, 'via_bot_id': None, 'reply_to': {'_': 'MessageReplyHeader', 'reply_to_msg_id': 4, 'reply_to_scheduled': False, 'reply_to_peer_id': None, 'reply_to_top_id': None}, 'media': {'_': 'MessageMediaDocument', 'nopremium': False, 'document': {'_': 'Document', 'id': 5955064738219033087, 'access_hash': 1502925001754236569, 'file_reference': [2, 70, 76, 239, 248, 0, 0, 0, 8, 99, 95, 10, 54, 21, 154, 181, 58, 80, 119, 15, 191, 18, 240, 222, 96, 23, 170, 223, 31], 'date': '2020-05-31T07:39:40+00:00', 'mime_type': 'video/mp4', 'size': 117818, 'dc_id': 4, 'attributes': [{'_': 'DocumentAttributeVideo', 'duration': 4, 'w': 208, 'h': 184, 'round_message': False, 'supports_streaming': True}, {'_': 'DocumentAttributeFilename', 'file_name': 'mp4.mp4'}, {'_': 'DocumentAttributeAnimated'}], 'thumbs': [{'_': 'PhotoStrippedSize', 'type': 'i', 'bytes': [1, 35, 40, 168, 106, 205, 150, 20, 57, 28, 191, 64, 42, 161, 52, 44, 140, 141, 185, 122, 211, 122, 130, 118, 100, 151, 14, 89, 99, 114, 8, 32, 156, 253, 106, 251, 159, 151, 53, 157, 44, 254, 98, 99, 24, 36, 243, 87, 164, 226, 49, 159, 74, 134, 141, 19, 51, 174, 24, 203, 40, 69, 25, 62, 148, 84, 246, 200, 67, 52, 168, 55, 57, 225, 125, 7, 185, 52, 83, 189, 133, 107, 238, 64, 105, 181, 164, 177, 201, 49, 194, 160, 62, 166, 165, 251, 1, 227, 124, 128, 125, 5, 59, 178, 12, 203, 88, 252, 219, 152, 215, 25, 5, 134, 126, 149, 179, 112, 170, 79, 40, 41, 81, 34, 129, 113, 26, 243, 235, 222, 154, 196, 177, 171, 75, 184, 174, 98, 73, 35, 134, 101, 86, 109, 160, 156, 14, 212, 84, 178, 57, 243, 24, 118, 4, 209, 89, 178, 139, 81, 72, 233, 187, 107, 17, 244, 167, 25, 164, 32, 2, 230, 138, 42, 162, 38, 51, 96, 96, 75, 110, 39, 221, 141, 76, 163, 3, 0, 156, 125, 77, 20, 82, 187, 2, 55, 141, 63, 187, 69, 20, 82, 25]}], 'video_thumbs': [{'_': 'VideoSize', 'type': 'v', 'w': 150, 'h': 134, 'size': 40744, 'video_start_ts': None}]}, 'ttl_seconds': None}, 'reply_markup': None, 'entities': [], 'views': None, 'forwards': None, 'replies': None, 'edit_date': None, 'post_author': None, 'grouped_id': None, 'reactions': None, 'restriction_reason': [], 'ttl_period': None}\n",
      "{'_': 'Message', 'id': 7, 'peer_id': {'_': 'PeerChannel', 'channel_id': 1179447288}, 'date': '2021-07-20T01:40:49+00:00', 'message': '', 'out': False, 'mentioned': False, 'media_unread': False, 'silent': False, 'post': False, 'from_scheduled': False, 'legacy': False, 'edit_hide': False, 'pinned': False, 'noforwards': False, 'from_id': {'_': 'PeerUser', 'user_id': 1198825462}, 'fwd_from': None, 'via_bot_id': None, 'reply_to': {'_': 'MessageReplyHeader', 'reply_to_msg_id': 2, 'reply_to_scheduled': False, 'reply_to_peer_id': None, 'reply_to_top_id': None}, 'media': {'_': 'MessageMediaDocument', 'nopremium': False, 'document': {'_': 'Document', 'id': 5979861014642950656, 'access_hash': 6066887828916240943, 'file_reference': [2, 70, 76, 239, 248, 0, 0, 0, 7, 99, 95, 10, 54, 195, 191, 221, 77, 239, 164, 27, 107, 238, 24, 177, 14, 99, 40, 254, 144], 'date': '2020-06-09T05:33:09+00:00', 'mime_type': 'video/mp4', 'size': 167288, 'dc_id': 4, 'attributes': [{'_': 'DocumentAttributeVideo', 'duration': 3, 'w': 320, 'h': 244, 'round_message': False, 'supports_streaming': True}, {'_': 'DocumentAttributeFilename', 'file_name': 'mp4.mp4'}, {'_': 'DocumentAttributeAnimated'}], 'thumbs': [{'_': 'PhotoStrippedSize', 'type': 'i', 'bytes': [1, 30, 40, 164, 49, 176, 245, 200, 56, 2, 159, 230, 188, 106, 170, 201, 207, 94, 189, 169, 233, 128, 163, 166, 122, 211, 237, 182, 121, 204, 112, 15, 28, 81, 61, 21, 197, 107, 189, 202, 173, 32, 39, 56, 63, 225, 72, 91, 4, 123, 213, 139, 146, 172, 228, 170, 241, 142, 195, 189, 87, 249, 207, 65, 233, 82, 173, 107, 177, 139, 193, 108, 30, 63, 10, 41, 126, 124, 28, 156, 2, 115, 69, 82, 229, 19, 79, 161, 48, 12, 0, 227, 147, 223, 181, 74, 74, 172, 39, 4, 134, 7, 38, 152, 199, 39, 159, 202, 141, 216, 228, 12, 103, 174, 59, 214, 87, 79, 113, 169, 89, 220, 103, 156, 15, 81, 131, 237, 72, 187, 88, 156, 103, 52, 172, 19, 211, 174, 106, 32, 119, 182, 0, 3, 240, 170, 77, 32, 220, 152, 70, 132, 54, 75, 116, 237, 69, 43, 2, 139, 140, 228, 98, 138, 28, 151, 98, 111, 99]}], 'video_thumbs': [{'_': 'VideoSize', 'type': 'v', 'w': 150, 'h': 114, 'size': 47470, 'video_start_ts': None}]}, 'ttl_seconds': None}, 'reply_markup': None, 'entities': [], 'views': None, 'forwards': None, 'replies': None, 'edit_date': None, 'post_author': None, 'grouped_id': None, 'reactions': None, 'restriction_reason': [], 'ttl_period': None}\n",
      "{'_': 'Message', 'id': 4, 'peer_id': {'_': 'PeerChannel', 'channel_id': 1179447288}, 'date': '2021-07-20T01:40:20+00:00', 'message': 'John - “The socks are off”', 'out': False, 'mentioned': False, 'media_unread': False, 'silent': False, 'post': False, 'from_scheduled': False, 'legacy': False, 'edit_hide': False, 'pinned': False, 'noforwards': False, 'from_id': {'_': 'PeerUser', 'user_id': 1131149496}, 'fwd_from': None, 'via_bot_id': None, 'reply_to': None, 'media': None, 'reply_markup': None, 'entities': [], 'views': None, 'forwards': None, 'replies': {'_': 'MessageReplies', 'replies': 1, 'replies_pts': 117857, 'comments': False, 'recent_repliers': [], 'channel_id': None, 'max_id': 8, 'read_max_id': None}, 'edit_date': None, 'post_author': None, 'grouped_id': None, 'reactions': None, 'restriction_reason': [], 'ttl_period': None}\n",
      "{'_': 'MessageService', 'id': 2, 'peer_id': {'_': 'PeerChannel', 'channel_id': 1179447288}, 'date': '2021-07-20T01:40:04+00:00', 'action': {'_': 'MessageActionChatDeleteUser', 'user_id': 1693733119}, 'out': False, 'mentioned': False, 'media_unread': False, 'silent': False, 'post': False, 'legacy': False, 'from_id': {'_': 'PeerUser', 'user_id': 1223613397}, 'reply_to': None, 'ttl_period': None}\n",
      "{'_': 'MessageService', 'id': 1, 'peer_id': {'_': 'PeerChannel', 'channel_id': 1179447288}, 'date': '2021-07-20T01:34:30+00:00', 'action': {'_': 'MessageActionChannelMigrateFrom', 'title': 'The Jaegerists', 'chat_id': 394034500}, 'out': False, 'mentioned': False, 'media_unread': False, 'silent': False, 'post': False, 'legacy': False, 'from_id': None, 'reply_to': None, 'ttl_period': None}\n"
     ]
    }
   ],
   "source": [
    "import json\n",
    "  \n",
    "# Opening JSON file\n",
    "f = open('channel_messages.json')\n",
    "  \n",
    "# returns JSON object as \n",
    "# a dictionary\n",
    "data = json.load(f)\n",
    "  \n",
    "# Iterating through the json\n",
    "# list\n",
    "for i in data[-5:]:\n",
    "    try:\n",
    "       \n",
    "        print(i)\n",
    "    except:\n",
    "        pass\n",
    "  \n",
    "# Closing file\n",
    "f.close()"
   ]
  },
  {
   "cell_type": "code",
   "execution_count": 18,
   "metadata": {},
   "outputs": [
    {
     "data": {
      "text/plain": [
       "{155670507,\n",
       " 242377619,\n",
       " 299745568,\n",
       " 519538223,\n",
       " 719258451,\n",
       " 1131149496,\n",
       " 1166248106,\n",
       " 1198825462,\n",
       " 1201985331,\n",
       " 1223613397,\n",
       " 1408749149,\n",
       " 1693733119,\n",
       " 5296303876,\n",
       " 5377074287,\n",
       " 5451035407}"
      ]
     },
     "execution_count": 18,
     "metadata": {},
     "output_type": "execute_result"
    }
   ],
   "source": [
    "user_accounts = set()\n",
    "# Opening JSON file\n",
    "f = open('channel_messages.json')\n",
    "  \n",
    "# returns JSON object as \n",
    "# a dictionary\n",
    "data = json.load(f)\n",
    "  \n",
    "# Iterating through the json\n",
    "# list\n",
    "for i in data:\n",
    "    try:\n",
    "       \n",
    "        user_accounts.add(i['from_id']['user_id'])\n",
    "    except:\n",
    "        pass\n",
    "  \n",
    "# Closing file\n",
    "f.close()\n",
    "user_accounts"
   ]
  },
  {
   "cell_type": "code",
   "execution_count": null,
   "metadata": {},
   "outputs": [],
   "source": [
    "# Jamshid's deleted account id: 1408749149\n",
    "# Jamshid's account id: 5377074287\n",
    "# my deleted account id: 719258451\n",
    "# my account id: 5451035407\n",
    "# John's account id: 1166248106\n",
    "# Hassib's account id: 1198825462\n",
    "# Mattee's account id: 5296303876\n",
    "# Omrahn's account id: 1131149496\n",
    "# Brendan's account id: 1201985331\n",
    "# Greg's account id: 1223613397"
   ]
  },
  {
   "cell_type": "code",
   "execution_count": 56,
   "metadata": {},
   "outputs": [],
   "source": [
    "user_id_username = {\n",
    "    1693733119: 'Jamshid',\n",
    "    5377074287: 'Jamshid',\n",
    "    719258451:  'Jalil',\n",
    "    5451035407: 'Jalil',\n",
    "    1166248106: 'John',\n",
    "    1198825462: 'Hassib',\n",
    "    5296303876: 'Mattee',\n",
    "    1408749149: 'Mattee',\n",
    "    1131149496: 'Omrahn',\n",
    "    1201985331: 'Brendan',\n",
    "    1223613397: 'Greg',\n",
    "    155670507: 'quizzarium',\n",
    "    519538223: 'hangmanbot',\n",
    "    299745568: 'dreams',\n",
    "    242377619: 'everyonebot'\n",
    "}"
   ]
  },
  {
   "cell_type": "code",
   "execution_count": 65,
   "metadata": {},
   "outputs": [
    {
     "data": {
      "text/plain": [
       "{'John': 11509,\n",
       " 'Hassib': 10919,\n",
       " 'Mattee': 7286,\n",
       " 'Omrahn': 2065,\n",
       " 'Brendan': 1434,\n",
       " 'Greg': 1369,\n",
       " 'Jalil': 10947,\n",
       " 'Jamshid': 5761,\n",
       " 'quizzarium': 184,\n",
       " 'everyonebot': 80,\n",
       " 'hangmanbot': 5,\n",
       " 'dreams': 3}"
      ]
     },
     "execution_count": 65,
     "metadata": {},
     "output_type": "execute_result"
    }
   ],
   "source": [
    "txt_message_count= {}\n",
    "# Opening JSON file\n",
    "f = open('channel_messages.json')\n",
    "  \n",
    "# returns JSON object as \n",
    "# a dictionary\n",
    "data = json.load(f)\n",
    "  \n",
    "# Iterating through the json\n",
    "# list\n",
    "for i in data:\n",
    "    try:\n",
    "        if i['media'] == None:\n",
    "            if user_id_username[i['from_id']['user_id']] in txt_message_count:\n",
    "                txt_message_count[user_id_username[i['from_id']['user_id']]] +=1\n",
    "            else:\n",
    "                txt_message_count[user_id_username[i['from_id']['user_id']]] = 1\n",
    "        \n",
    "        \n",
    "    except:\n",
    "        pass\n",
    "  \n",
    "# Closing file\n",
    "f.close()\n",
    "dict(sorted(txt_message_count.items(), key=lambda item: item[1],reverse=True))"
   ]
  },
  {
   "cell_type": "code",
   "execution_count": 66,
   "metadata": {},
   "outputs": [
    {
     "data": {
      "text/plain": [
       "{'John': 11509,\n",
       " 'Jalil': 10947,\n",
       " 'Hassib': 10919,\n",
       " 'Mattee': 7286,\n",
       " 'Jamshid': 5761,\n",
       " 'Omrahn': 2065,\n",
       " 'Brendan': 1434,\n",
       " 'Greg': 1369,\n",
       " 'quizzarium': 184,\n",
       " 'everyonebot': 80,\n",
       " 'hangmanbot': 5,\n",
       " 'dreams': 3}"
      ]
     },
     "execution_count": 66,
     "metadata": {},
     "output_type": "execute_result"
    }
   ],
   "source": [
    "dict(sorted(txt_message_count.items(), key=lambda item: item[1],reverse=True))"
   ]
  },
  {
   "cell_type": "code",
   "execution_count": 68,
   "metadata": {},
   "outputs": [
    {
     "data": {
      "text/plain": [
       "{'John': 17532,\n",
       " 'Hassib': 14345,\n",
       " 'Jalil': 13330,\n",
       " 'Mattee': 10451,\n",
       " 'Jamshid': 7169,\n",
       " 'Omrahn': 3734,\n",
       " 'Brendan': 2030,\n",
       " 'Greg': 1967,\n",
       " 'quizzarium': 228,\n",
       " 'everyonebot': 80,\n",
       " 'hangmanbot': 5,\n",
       " 'dreams': 3}"
      ]
     },
     "execution_count": 68,
     "metadata": {},
     "output_type": "execute_result"
    }
   ],
   "source": [
    "all_message_count= {}\n",
    "# Opening JSON file\n",
    "f = open('channel_messages.json')\n",
    "  \n",
    "# returns JSON object as \n",
    "# a dictionary\n",
    "data = json.load(f)\n",
    "  \n",
    "# Iterating through the json\n",
    "# list\n",
    "for i in data:\n",
    "    try:\n",
    "        \n",
    "        if user_id_username[i['from_id']['user_id']] in all_message_count:\n",
    "            all_message_count[user_id_username[i['from_id']['user_id']]] +=1\n",
    "        else:\n",
    "            all_message_count[user_id_username[i['from_id']['user_id']]] = 1\n",
    "        \n",
    "        \n",
    "    except:\n",
    "        pass\n",
    "  \n",
    "# Closing file\n",
    "f.close()\n",
    "dict(sorted(all_message_count.items(), key=lambda item: item[1],reverse=True))"
   ]
  },
  {
   "cell_type": "code",
   "execution_count": 71,
   "metadata": {},
   "outputs": [
    {
     "data": {
      "text/plain": [
       "13330"
      ]
     },
     "execution_count": 71,
     "metadata": {},
     "output_type": "execute_result"
    }
   ],
   "source": [
    "user_messages = {\n",
    "    'John':[],\n",
    "    'Hassib':[],\n",
    "    'Jalil':[],\n",
    "    'Mattee':[],\n",
    "    'Jamshid':[],\n",
    "    'Omrahn':[],\n",
    "    'Brendan':[],\n",
    "    'Greg':[],\n",
    "}\n",
    "# Opening JSON file\n",
    "f = open('channel_messages.json')\n",
    "  \n",
    "# returns JSON object as \n",
    "# a dictionary\n",
    "data = json.load(f)\n",
    "  \n",
    "# Iterating through the json\n",
    "# list\n",
    "for i in data:\n",
    "    try:\n",
    "        user_id = i['from_id']['user_id']\n",
    "        user = user_id_username[user_id]\n",
    "        user_messages[user].append(i)\n",
    "    except:\n",
    "        pass\n",
    "  \n",
    "# Closing file\n",
    "f.close()"
   ]
  },
  {
   "cell_type": "code",
   "execution_count": 81,
   "metadata": {},
   "outputs": [],
   "source": [
    "outpath = 'user_data/'\n",
    "for user in user_messages:\n",
    "    out = outpath + user + \"/\" + user + \"_messages.json\" \n",
    "    with open(out, \"w\") as outfile:\n",
    "        json.dump(user_messages[user], outfile)"
   ]
  },
  {
   "cell_type": "code",
   "execution_count": null,
   "metadata": {},
   "outputs": [],
   "source": []
  }
 ],
 "metadata": {
  "kernelspec": {
   "display_name": "Python 3",
   "language": "python",
   "name": "python3"
  },
  "language_info": {
   "codemirror_mode": {
    "name": "ipython",
    "version": 3
   },
   "file_extension": ".py",
   "mimetype": "text/x-python",
   "name": "python",
   "nbconvert_exporter": "python",
   "pygments_lexer": "ipython3",
   "version": "3.8.5"
  }
 },
 "nbformat": 4,
 "nbformat_minor": 4
}
